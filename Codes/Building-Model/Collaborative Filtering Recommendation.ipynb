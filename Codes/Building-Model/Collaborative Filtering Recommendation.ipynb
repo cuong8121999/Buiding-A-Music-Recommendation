{
 "cells": [
  {
   "cell_type": "markdown",
   "metadata": {},
   "source": [
    "## Import Implicit package for ALS"
   ]
  },
  {
   "cell_type": "markdown",
   "metadata": {},
   "source": [
    "# Alternative Least Square Algorithm"
   ]
  },
  {
   "cell_type": "code",
   "execution_count": 1,
   "metadata": {},
   "outputs": [],
   "source": [
    "# Import Necessary for Building Model\n",
    "import implicit\n",
    "import pandas as pd\n",
    "import numpy as np\n",
    "import matplotlib.pyplot as plt\n",
    "import seaborn as sns\n",
    "from scipy.sparse.linalg import spsolve\n",
    "from sklearn.model_selection import GridSearchCV\n",
    "import scipy.sparse as sparse\n"
   ]
  },
  {
   "cell_type": "code",
   "execution_count": 2,
   "metadata": {},
   "outputs": [],
   "source": [
    "# Create a shortcut direction to import data from computer\n",
    "general_path = '/Users/user/Documents/Đồ án tốt nghiệp/Music Data/lastfm-dataset-1K'\n"
   ]
  },
  {
   "cell_type": "code",
   "execution_count": 3,
   "metadata": {
    "scrolled": true
   },
   "outputs": [
    {
     "data": {
      "text/html": [
       "<div>\n",
       "<style scoped>\n",
       "    .dataframe tbody tr th:only-of-type {\n",
       "        vertical-align: middle;\n",
       "    }\n",
       "\n",
       "    .dataframe tbody tr th {\n",
       "        vertical-align: top;\n",
       "    }\n",
       "\n",
       "    .dataframe thead th {\n",
       "        text-align: right;\n",
       "    }\n",
       "</style>\n",
       "<table border=\"1\" class=\"dataframe\">\n",
       "  <thead>\n",
       "    <tr style=\"text-align: right;\">\n",
       "      <th></th>\n",
       "      <th>user_id</th>\n",
       "      <th>time_stamp</th>\n",
       "      <th>artist_id</th>\n",
       "      <th>artist_name</th>\n",
       "      <th>song_id</th>\n",
       "      <th>song_name</th>\n",
       "    </tr>\n",
       "  </thead>\n",
       "  <tbody>\n",
       "    <tr>\n",
       "      <th>0</th>\n",
       "      <td>user_000001</td>\n",
       "      <td>2009-05-04T23:08:57Z</td>\n",
       "      <td>f1b1cf71-bd35-4e99-8624-24a6e15f133a</td>\n",
       "      <td>Deep Dish</td>\n",
       "      <td>NaN</td>\n",
       "      <td>Fuck Me Im Famous (Pacha Ibiza)-09-28-2007</td>\n",
       "    </tr>\n",
       "    <tr>\n",
       "      <th>1</th>\n",
       "      <td>user_000001</td>\n",
       "      <td>2009-05-04T13:54:10Z</td>\n",
       "      <td>a7f7df4a-77d8-4f12-8acd-5c60c93f4de8</td>\n",
       "      <td>坂本龍一</td>\n",
       "      <td>NaN</td>\n",
       "      <td>Composition 0919 (Live_2009_4_15)</td>\n",
       "    </tr>\n",
       "    <tr>\n",
       "      <th>2</th>\n",
       "      <td>user_000001</td>\n",
       "      <td>2009-05-04T13:52:04Z</td>\n",
       "      <td>a7f7df4a-77d8-4f12-8acd-5c60c93f4de8</td>\n",
       "      <td>坂本龍一</td>\n",
       "      <td>NaN</td>\n",
       "      <td>Mc2 (Live_2009_4_15)</td>\n",
       "    </tr>\n",
       "    <tr>\n",
       "      <th>3</th>\n",
       "      <td>user_000001</td>\n",
       "      <td>2009-05-04T13:42:52Z</td>\n",
       "      <td>a7f7df4a-77d8-4f12-8acd-5c60c93f4de8</td>\n",
       "      <td>坂本龍一</td>\n",
       "      <td>NaN</td>\n",
       "      <td>Hibari (Live_2009_4_15)</td>\n",
       "    </tr>\n",
       "    <tr>\n",
       "      <th>4</th>\n",
       "      <td>user_000001</td>\n",
       "      <td>2009-05-04T13:42:11Z</td>\n",
       "      <td>a7f7df4a-77d8-4f12-8acd-5c60c93f4de8</td>\n",
       "      <td>坂本龍一</td>\n",
       "      <td>NaN</td>\n",
       "      <td>Mc1 (Live_2009_4_15)</td>\n",
       "    </tr>\n",
       "    <tr>\n",
       "      <th>5</th>\n",
       "      <td>user_000001</td>\n",
       "      <td>2009-05-04T13:38:31Z</td>\n",
       "      <td>a7f7df4a-77d8-4f12-8acd-5c60c93f4de8</td>\n",
       "      <td>坂本龍一</td>\n",
       "      <td>NaN</td>\n",
       "      <td>To Stanford (Live_2009_4_15)</td>\n",
       "    </tr>\n",
       "    <tr>\n",
       "      <th>6</th>\n",
       "      <td>user_000001</td>\n",
       "      <td>2009-05-04T13:33:28Z</td>\n",
       "      <td>a7f7df4a-77d8-4f12-8acd-5c60c93f4de8</td>\n",
       "      <td>坂本龍一</td>\n",
       "      <td>NaN</td>\n",
       "      <td>Improvisation (Live_2009_4_15)</td>\n",
       "    </tr>\n",
       "    <tr>\n",
       "      <th>7</th>\n",
       "      <td>user_000001</td>\n",
       "      <td>2009-05-04T13:23:45Z</td>\n",
       "      <td>a7f7df4a-77d8-4f12-8acd-5c60c93f4de8</td>\n",
       "      <td>坂本龍一</td>\n",
       "      <td>NaN</td>\n",
       "      <td>Glacier (Live_2009_4_15)</td>\n",
       "    </tr>\n",
       "    <tr>\n",
       "      <th>8</th>\n",
       "      <td>user_000001</td>\n",
       "      <td>2009-05-04T13:19:22Z</td>\n",
       "      <td>a7f7df4a-77d8-4f12-8acd-5c60c93f4de8</td>\n",
       "      <td>坂本龍一</td>\n",
       "      <td>NaN</td>\n",
       "      <td>Parolibre (Live_2009_4_15)</td>\n",
       "    </tr>\n",
       "    <tr>\n",
       "      <th>9</th>\n",
       "      <td>user_000001</td>\n",
       "      <td>2009-05-04T13:13:38Z</td>\n",
       "      <td>a7f7df4a-77d8-4f12-8acd-5c60c93f4de8</td>\n",
       "      <td>坂本龍一</td>\n",
       "      <td>NaN</td>\n",
       "      <td>Bibo No Aozora (Live_2009_4_15)</td>\n",
       "    </tr>\n",
       "  </tbody>\n",
       "</table>\n",
       "</div>"
      ],
      "text/plain": [
       "       user_id            time_stamp                             artist_id  \\\n",
       "0  user_000001  2009-05-04T23:08:57Z  f1b1cf71-bd35-4e99-8624-24a6e15f133a   \n",
       "1  user_000001  2009-05-04T13:54:10Z  a7f7df4a-77d8-4f12-8acd-5c60c93f4de8   \n",
       "2  user_000001  2009-05-04T13:52:04Z  a7f7df4a-77d8-4f12-8acd-5c60c93f4de8   \n",
       "3  user_000001  2009-05-04T13:42:52Z  a7f7df4a-77d8-4f12-8acd-5c60c93f4de8   \n",
       "4  user_000001  2009-05-04T13:42:11Z  a7f7df4a-77d8-4f12-8acd-5c60c93f4de8   \n",
       "5  user_000001  2009-05-04T13:38:31Z  a7f7df4a-77d8-4f12-8acd-5c60c93f4de8   \n",
       "6  user_000001  2009-05-04T13:33:28Z  a7f7df4a-77d8-4f12-8acd-5c60c93f4de8   \n",
       "7  user_000001  2009-05-04T13:23:45Z  a7f7df4a-77d8-4f12-8acd-5c60c93f4de8   \n",
       "8  user_000001  2009-05-04T13:19:22Z  a7f7df4a-77d8-4f12-8acd-5c60c93f4de8   \n",
       "9  user_000001  2009-05-04T13:13:38Z  a7f7df4a-77d8-4f12-8acd-5c60c93f4de8   \n",
       "\n",
       "  artist_name song_id                                   song_name  \n",
       "0   Deep Dish     NaN  Fuck Me Im Famous (Pacha Ibiza)-09-28-2007  \n",
       "1        坂本龍一     NaN           Composition 0919 (Live_2009_4_15)  \n",
       "2        坂本龍一     NaN                        Mc2 (Live_2009_4_15)  \n",
       "3        坂本龍一     NaN                     Hibari (Live_2009_4_15)  \n",
       "4        坂本龍一     NaN                        Mc1 (Live_2009_4_15)  \n",
       "5        坂本龍一     NaN                To Stanford (Live_2009_4_15)  \n",
       "6        坂本龍一     NaN              Improvisation (Live_2009_4_15)  \n",
       "7        坂本龍一     NaN                    Glacier (Live_2009_4_15)  \n",
       "8        坂本龍一     NaN                  Parolibre (Live_2009_4_15)  \n",
       "9        坂本龍一     NaN             Bibo No Aozora (Live_2009_4_15)  "
      ]
     },
     "execution_count": 3,
     "metadata": {},
     "output_type": "execute_result"
    }
   ],
   "source": [
    "# Import original dataset of Million Song Dataset\n",
    "data = pd.read_table(f'{general_path}/userid-timestamp-artid-artname-traid-traname.tsv', error_bad_lines=False, names=['user_id','time_stamp','artist_id','artist_name','song_id','song_name'])\n",
    "data.head(10)\n"
   ]
  },
  {
   "cell_type": "code",
   "execution_count": 4,
   "metadata": {
    "scrolled": true
   },
   "outputs": [],
   "source": [
    "# Make a copy dataset\n",
    "df = data.copy()\n",
    "\n",
    "# Drop any rows have NaN value\n",
    "df.dropna(inplace=True)\n",
    "\n",
    "# Drop unnecessary columns\n",
    "df.drop(['artist_id', 'song_id', 'time_stamp'], axis=1, inplace=True)\n"
   ]
  },
  {
   "cell_type": "code",
   "execution_count": 6,
   "metadata": {},
   "outputs": [
    {
     "data": {
      "text/html": [
       "<div>\n",
       "<style scoped>\n",
       "    .dataframe tbody tr th:only-of-type {\n",
       "        vertical-align: middle;\n",
       "    }\n",
       "\n",
       "    .dataframe tbody tr th {\n",
       "        vertical-align: top;\n",
       "    }\n",
       "\n",
       "    .dataframe thead th {\n",
       "        text-align: right;\n",
       "    }\n",
       "</style>\n",
       "<table border=\"1\" class=\"dataframe\">\n",
       "  <thead>\n",
       "    <tr style=\"text-align: right;\">\n",
       "      <th></th>\n",
       "      <th>user_id</th>\n",
       "      <th>artist_name</th>\n",
       "      <th>song_name</th>\n",
       "      <th>song_artist</th>\n",
       "    </tr>\n",
       "  </thead>\n",
       "  <tbody>\n",
       "    <tr>\n",
       "      <th>10</th>\n",
       "      <td>user_000001</td>\n",
       "      <td>坂本龍一</td>\n",
       "      <td>The Last Emperor (Theme)</td>\n",
       "      <td>The Last Emperor (Theme) - 坂本龍一</td>\n",
       "    </tr>\n",
       "    <tr>\n",
       "      <th>12</th>\n",
       "      <td>user_000001</td>\n",
       "      <td>坂本龍一</td>\n",
       "      <td>Tibetan Dance (Version)</td>\n",
       "      <td>Tibetan Dance (Version) - 坂本龍一</td>\n",
       "    </tr>\n",
       "    <tr>\n",
       "      <th>14</th>\n",
       "      <td>user_000001</td>\n",
       "      <td>Underworld</td>\n",
       "      <td>Boy, Boy, Boy (Switch Remix)</td>\n",
       "      <td>Boy, Boy, Boy (Switch Remix) - Underworld</td>\n",
       "    </tr>\n",
       "    <tr>\n",
       "      <th>15</th>\n",
       "      <td>user_000001</td>\n",
       "      <td>Underworld</td>\n",
       "      <td>Crocodile (Innervisions Orchestra Mix)</td>\n",
       "      <td>Crocodile (Innervisions Orchestra Mix) - Under...</td>\n",
       "    </tr>\n",
       "    <tr>\n",
       "      <th>16</th>\n",
       "      <td>user_000001</td>\n",
       "      <td>Ennio Morricone</td>\n",
       "      <td>Ninna Nanna In Blu (Raw Deal Remix)</td>\n",
       "      <td>Ninna Nanna In Blu (Raw Deal Remix) - Ennio Mo...</td>\n",
       "    </tr>\n",
       "    <tr>\n",
       "      <th>17</th>\n",
       "      <td>user_000001</td>\n",
       "      <td>Minus 8</td>\n",
       "      <td>Elysian Fields</td>\n",
       "      <td>Elysian Fields - Minus 8</td>\n",
       "    </tr>\n",
       "    <tr>\n",
       "      <th>18</th>\n",
       "      <td>user_000001</td>\n",
       "      <td>Beanfield</td>\n",
       "      <td>Planetary Deadlock</td>\n",
       "      <td>Planetary Deadlock - Beanfield</td>\n",
       "    </tr>\n",
       "    <tr>\n",
       "      <th>19</th>\n",
       "      <td>user_000001</td>\n",
       "      <td>Dj Linus</td>\n",
       "      <td>Good Morning Love Coffee Is Ready</td>\n",
       "      <td>Good Morning Love Coffee Is Ready - Dj Linus</td>\n",
       "    </tr>\n",
       "    <tr>\n",
       "      <th>20</th>\n",
       "      <td>user_000001</td>\n",
       "      <td>Alif Tree</td>\n",
       "      <td>Deadly Species</td>\n",
       "      <td>Deadly Species - Alif Tree</td>\n",
       "    </tr>\n",
       "    <tr>\n",
       "      <th>21</th>\n",
       "      <td>user_000001</td>\n",
       "      <td>Minus 8</td>\n",
       "      <td>Cold Fusion</td>\n",
       "      <td>Cold Fusion - Minus 8</td>\n",
       "    </tr>\n",
       "  </tbody>\n",
       "</table>\n",
       "</div>"
      ],
      "text/plain": [
       "        user_id      artist_name                               song_name  \\\n",
       "10  user_000001             坂本龍一                The Last Emperor (Theme)   \n",
       "12  user_000001             坂本龍一                 Tibetan Dance (Version)   \n",
       "14  user_000001       Underworld            Boy, Boy, Boy (Switch Remix)   \n",
       "15  user_000001       Underworld  Crocodile (Innervisions Orchestra Mix)   \n",
       "16  user_000001  Ennio Morricone     Ninna Nanna In Blu (Raw Deal Remix)   \n",
       "17  user_000001          Minus 8                          Elysian Fields   \n",
       "18  user_000001        Beanfield                      Planetary Deadlock   \n",
       "19  user_000001         Dj Linus       Good Morning Love Coffee Is Ready   \n",
       "20  user_000001        Alif Tree                          Deadly Species   \n",
       "21  user_000001          Minus 8                             Cold Fusion   \n",
       "\n",
       "                                          song_artist  \n",
       "10                    The Last Emperor (Theme) - 坂本龍一  \n",
       "12                     Tibetan Dance (Version) - 坂本龍一  \n",
       "14          Boy, Boy, Boy (Switch Remix) - Underworld  \n",
       "15  Crocodile (Innervisions Orchestra Mix) - Under...  \n",
       "16  Ninna Nanna In Blu (Raw Deal Remix) - Ennio Mo...  \n",
       "17                           Elysian Fields - Minus 8  \n",
       "18                     Planetary Deadlock - Beanfield  \n",
       "19       Good Morning Love Coffee Is Ready - Dj Linus  \n",
       "20                         Deadly Species - Alif Tree  \n",
       "21                              Cold Fusion - Minus 8  "
      ]
     },
     "execution_count": 6,
     "metadata": {},
     "output_type": "execute_result"
    }
   ],
   "source": [
    "# Combine artist_name and song_name into a column\n",
    "df['song_artist'] = df[['song_name', 'artist_name']].agg(' - '.join, axis=1)\n",
    "df.head(10)\n"
   ]
  },
  {
   "cell_type": "code",
   "execution_count": 7,
   "metadata": {},
   "outputs": [],
   "source": [
    "# Continue to drop song_name and artist_name column\n",
    "df.drop(['song_name', 'artist_name'], axis=1, inplace=True)\n",
    "\n",
    "# Add times column into dataset\n",
    "df['times'] = 1\n"
   ]
  },
  {
   "cell_type": "code",
   "execution_count": 8,
   "metadata": {},
   "outputs": [],
   "source": [
    "# Change to lowercase for string data\n",
    "df['song_artist'] = df['song_artist'].str.lower()\n"
   ]
  },
  {
   "cell_type": "code",
   "execution_count": 9,
   "metadata": {},
   "outputs": [],
   "source": [
    "# Function for group by song plays of each song for each user\n",
    "def count_song(df):\n",
    "    df1 = pd.DataFrame(columns=df.columns.to_list())\n",
    "    \n",
    "    # Loop through each user\n",
    "    for i in df['user_id'].unique():\n",
    "        # Get the id of user\n",
    "        user = df[df['user_id'] == i]\n",
    "        # Count the song plays\n",
    "        count = pd.DataFrame(user.groupby(['user_id','song_artist']).times.count())\n",
    "        # Reset index for DataFrame\n",
    "        count.reset_index(inplace=True)\n",
    "        # Append data into DataFrame\n",
    "        df1 = pd.concat([df1,count])\n",
    "        \n",
    "    return df1\n"
   ]
  },
  {
   "cell_type": "code",
   "execution_count": 10,
   "metadata": {},
   "outputs": [],
   "source": [
    "# Take the output dataframe for count_song function\n",
    "count_df = count_song(df)\n"
   ]
  },
  {
   "cell_type": "code",
   "execution_count": 11,
   "metadata": {},
   "outputs": [],
   "source": [
    "# Create numeric category columns for user_id and song_artist_id\n",
    "count_df['user_id_cat'] = count_df['user_id'].astype('category').cat.codes\n",
    "count_df['song_artist_cat'] = count_df['song_artist'].astype('category').cat.codes\n"
   ]
  },
  {
   "cell_type": "code",
   "execution_count": 12,
   "metadata": {},
   "outputs": [],
   "source": [
    "# The implicit library expects data as item-user matrix\n",
    "sparse_item_user = sparse.csr_matrix((count_df['times'].astype(float), (count_df['song_artist_cat'], count_df['user_id_cat'])))\n",
    "sparse_user_item = sparse.csr_matrix((count_df['times'].astype(float), (count_df['user_id_cat'], count_df['song_artist_cat'])))\n"
   ]
  },
  {
   "cell_type": "code",
   "execution_count": 13,
   "metadata": {},
   "outputs": [
    {
     "name": "stderr",
     "output_type": "stream",
     "text": [
      "WARNING:root:Intel MKL BLAS detected. Its highly recommend to set the environment variable 'export MKL_NUM_THREADS=1' to disable its internal multithreading\n"
     ]
    },
    {
     "data": {
      "application/vnd.jupyter.widget-view+json": {
       "model_id": "7e13a9409bf84d8eb0a72fd6c38163f8",
       "version_major": 2,
       "version_minor": 0
      },
      "text/plain": [
       "HBox(children=(HTML(value=''), FloatProgress(value=0.0, max=20.0), HTML(value='')))"
      ]
     },
     "metadata": {},
     "output_type": "display_data"
    },
    {
     "name": "stdout",
     "output_type": "stream",
     "text": [
      "\n"
     ]
    },
    {
     "data": {
      "application/vnd.jupyter.widget-view+json": {
       "model_id": "700500086055474582437025681ed4a9",
       "version_major": 2,
       "version_minor": 0
      },
      "text/plain": [
       "HBox(children=(HTML(value=''), FloatProgress(value=0.0, max=992.0), HTML(value='')))"
      ]
     },
     "metadata": {},
     "output_type": "display_data"
    },
    {
     "name": "stdout",
     "output_type": "stream",
     "text": [
      "\n",
      "regularization: 0.1, factors: 20, score: 0.07238114628932098\n"
     ]
    },
    {
     "data": {
      "application/vnd.jupyter.widget-view+json": {
       "model_id": "d4c5133c4abc413a9781c5c87d71f557",
       "version_major": 2,
       "version_minor": 0
      },
      "text/plain": [
       "HBox(children=(HTML(value=''), FloatProgress(value=0.0, max=20.0), HTML(value='')))"
      ]
     },
     "metadata": {},
     "output_type": "display_data"
    },
    {
     "name": "stdout",
     "output_type": "stream",
     "text": [
      "\n"
     ]
    },
    {
     "data": {
      "application/vnd.jupyter.widget-view+json": {
       "model_id": "8eb8b396e788431fa958d414c8d6c400",
       "version_major": 2,
       "version_minor": 0
      },
      "text/plain": [
       "HBox(children=(HTML(value=''), FloatProgress(value=0.0, max=992.0), HTML(value='')))"
      ]
     },
     "metadata": {},
     "output_type": "display_data"
    },
    {
     "name": "stdout",
     "output_type": "stream",
     "text": [
      "\n",
      "regularization: 0.1, factors: 50, score: 0.12206047032474804\n"
     ]
    },
    {
     "data": {
      "application/vnd.jupyter.widget-view+json": {
       "model_id": "9c64588bd0e941d1bbbcd88b487f7647",
       "version_major": 2,
       "version_minor": 0
      },
      "text/plain": [
       "HBox(children=(HTML(value=''), FloatProgress(value=0.0, max=20.0), HTML(value='')))"
      ]
     },
     "metadata": {},
     "output_type": "display_data"
    },
    {
     "name": "stdout",
     "output_type": "stream",
     "text": [
      "\n"
     ]
    },
    {
     "data": {
      "application/vnd.jupyter.widget-view+json": {
       "model_id": "aa4408da0143485b804bc199eb563fab",
       "version_major": 2,
       "version_minor": 0
      },
      "text/plain": [
       "HBox(children=(HTML(value=''), FloatProgress(value=0.0, max=992.0), HTML(value='')))"
      ]
     },
     "metadata": {},
     "output_type": "display_data"
    },
    {
     "name": "stdout",
     "output_type": "stream",
     "text": [
      "\n",
      "regularization: 0.1, factors: 100, score: 0.1591163595642879\n"
     ]
    },
    {
     "data": {
      "application/vnd.jupyter.widget-view+json": {
       "model_id": "0e9b6fe8ed20492aab846317e743fa4b",
       "version_major": 2,
       "version_minor": 0
      },
      "text/plain": [
       "HBox(children=(HTML(value=''), FloatProgress(value=0.0, max=20.0), HTML(value='')))"
      ]
     },
     "metadata": {},
     "output_type": "display_data"
    },
    {
     "name": "stdout",
     "output_type": "stream",
     "text": [
      "\n"
     ]
    },
    {
     "data": {
      "application/vnd.jupyter.widget-view+json": {
       "model_id": "be3182c3f7d14463887b5620027a3494",
       "version_major": 2,
       "version_minor": 0
      },
      "text/plain": [
       "HBox(children=(HTML(value=''), FloatProgress(value=0.0, max=992.0), HTML(value='')))"
      ]
     },
     "metadata": {},
     "output_type": "display_data"
    },
    {
     "name": "stdout",
     "output_type": "stream",
     "text": [
      "\n",
      "regularization: 0.01, factors: 20, score: 0.07156673114119923\n"
     ]
    },
    {
     "data": {
      "application/vnd.jupyter.widget-view+json": {
       "model_id": "c090509cb90846b5805aecf72eff895d",
       "version_major": 2,
       "version_minor": 0
      },
      "text/plain": [
       "HBox(children=(HTML(value=''), FloatProgress(value=0.0, max=20.0), HTML(value='')))"
      ]
     },
     "metadata": {},
     "output_type": "display_data"
    },
    {
     "name": "stdout",
     "output_type": "stream",
     "text": [
      "\n"
     ]
    },
    {
     "data": {
      "application/vnd.jupyter.widget-view+json": {
       "model_id": "a1d2ba3cd33a43179ee66a890059b708",
       "version_major": 2,
       "version_minor": 0
      },
      "text/plain": [
       "HBox(children=(HTML(value=''), FloatProgress(value=0.0, max=992.0), HTML(value='')))"
      ]
     },
     "metadata": {},
     "output_type": "display_data"
    },
    {
     "name": "stdout",
     "output_type": "stream",
     "text": [
      "\n",
      "regularization: 0.01, factors: 50, score: 0.11880280973226102\n"
     ]
    },
    {
     "data": {
      "application/vnd.jupyter.widget-view+json": {
       "model_id": "569677d862d340779b8f2ac6abed19a3",
       "version_major": 2,
       "version_minor": 0
      },
      "text/plain": [
       "HBox(children=(HTML(value=''), FloatProgress(value=0.0, max=20.0), HTML(value='')))"
      ]
     },
     "metadata": {},
     "output_type": "display_data"
    },
    {
     "name": "stdout",
     "output_type": "stream",
     "text": [
      "\n"
     ]
    },
    {
     "data": {
      "application/vnd.jupyter.widget-view+json": {
       "model_id": "8a8edd01c82b41be9bb26ca7bba2eec8",
       "version_major": 2,
       "version_minor": 0
      },
      "text/plain": [
       "HBox(children=(HTML(value=''), FloatProgress(value=0.0, max=992.0), HTML(value='')))"
      ]
     },
     "metadata": {},
     "output_type": "display_data"
    },
    {
     "name": "stdout",
     "output_type": "stream",
     "text": [
      "\n",
      "regularization: 0.01, factors: 100, score: 0.1607451898605314\n"
     ]
    },
    {
     "data": {
      "application/vnd.jupyter.widget-view+json": {
       "model_id": "500480ab89a04eb78adeac444f350cce",
       "version_major": 2,
       "version_minor": 0
      },
      "text/plain": [
       "HBox(children=(HTML(value=''), FloatProgress(value=0.0, max=20.0), HTML(value='')))"
      ]
     },
     "metadata": {},
     "output_type": "display_data"
    },
    {
     "name": "stdout",
     "output_type": "stream",
     "text": [
      "\n"
     ]
    },
    {
     "data": {
      "application/vnd.jupyter.widget-view+json": {
       "model_id": "d8d67ac827ab432e90b947bb359d81ea",
       "version_major": 2,
       "version_minor": 0
      },
      "text/plain": [
       "HBox(children=(HTML(value=''), FloatProgress(value=0.0, max=992.0), HTML(value='')))"
      ]
     },
     "metadata": {},
     "output_type": "display_data"
    },
    {
     "name": "stdout",
     "output_type": "stream",
     "text": [
      "\n",
      "regularization: 0.001, factors: 20, score: 0.07227934439580576\n"
     ]
    },
    {
     "data": {
      "application/vnd.jupyter.widget-view+json": {
       "model_id": "aeb24dda227d458b85c949e616bb2589",
       "version_major": 2,
       "version_minor": 0
      },
      "text/plain": [
       "HBox(children=(HTML(value=''), FloatProgress(value=0.0, max=20.0), HTML(value='')))"
      ]
     },
     "metadata": {},
     "output_type": "display_data"
    },
    {
     "name": "stdout",
     "output_type": "stream",
     "text": [
      "\n"
     ]
    },
    {
     "data": {
      "application/vnd.jupyter.widget-view+json": {
       "model_id": "1713b1042808473797f04aee1a69d72c",
       "version_major": 2,
       "version_minor": 0
      },
      "text/plain": [
       "HBox(children=(HTML(value=''), FloatProgress(value=0.0, max=992.0), HTML(value='')))"
      ]
     },
     "metadata": {},
     "output_type": "display_data"
    },
    {
     "name": "stdout",
     "output_type": "stream",
     "text": [
      "\n",
      "regularization: 0.001, factors: 50, score: 0.1266415555329329\n"
     ]
    },
    {
     "data": {
      "application/vnd.jupyter.widget-view+json": {
       "model_id": "452674d72d294ec88726d06018c93e47",
       "version_major": 2,
       "version_minor": 0
      },
      "text/plain": [
       "HBox(children=(HTML(value=''), FloatProgress(value=0.0, max=20.0), HTML(value='')))"
      ]
     },
     "metadata": {},
     "output_type": "display_data"
    },
    {
     "name": "stdout",
     "output_type": "stream",
     "text": [
      "\n"
     ]
    },
    {
     "data": {
      "application/vnd.jupyter.widget-view+json": {
       "model_id": "cca37e58bd734d9ca5fff738f4206030",
       "version_major": 2,
       "version_minor": 0
      },
      "text/plain": [
       "HBox(children=(HTML(value=''), FloatProgress(value=0.0, max=992.0), HTML(value='')))"
      ]
     },
     "metadata": {},
     "output_type": "display_data"
    },
    {
     "name": "stdout",
     "output_type": "stream",
     "text": [
      "\n",
      "regularization: 0.001, factors: 100, score: 0.16624249211035325\n"
     ]
    }
   ],
   "source": [
    "from implicit.evaluation import precision_at_k, train_test_split, AUC_at_k\n",
    "\n",
    "benchmark = []\n",
    "\n",
    "np.random.seed(1234)\n",
    "item_user_train, item_user_test = train_test_split(sparse_item_user, train_percentage=0.75)\n",
    "\n",
    "alpha_val = 40\n",
    "data_conf = (item_user_train*alpha_val).astype(\"double\")\n",
    "#Building the model\n",
    "for i in [0.1, 0.01, 0.001]:\n",
    "    for j in [20, 50, 100]:\n",
    "        model = implicit.als.AlternatingLeastSquares(factors=j, regularization=i, iterations=20, use_cg=True)\n",
    "        model.fit(data_conf)\n",
    "        \n",
    "        p = precision_at_k(model, data_conf.T.tocsr(), item_user_test.T.tocsr(), K=10)\n",
    "        benchmark.append(p)\n",
    "        print(\"regularization: {}, factors: {}, score: {}\".format(i, j, p))\n"
   ]
  },
  {
   "cell_type": "code",
   "execution_count": 15,
   "metadata": {},
   "outputs": [
    {
     "data": {
      "application/vnd.jupyter.widget-view+json": {
       "model_id": "29e2acc0192b40dda81103a67794720a",
       "version_major": 2,
       "version_minor": 0
      },
      "text/plain": [
       "HBox(children=(HTML(value=''), FloatProgress(value=0.0, max=20.0), HTML(value='')))"
      ]
     },
     "metadata": {},
     "output_type": "display_data"
    },
    {
     "name": "stdout",
     "output_type": "stream",
     "text": [
      "\n"
     ]
    }
   ],
   "source": [
    "# Initialize the als model and fit it using the sparse item_user matrix\n",
    "model = implicit.als.AlternatingLeastSquares(factors=100, regularization=0.001, iterations=20, use_cg=True)\n",
    "\n",
    "# Calculate the cofidence by multiplying it by our alpha value\n",
    "alpha_val = 40\n",
    "data_conf = (sparse_item_user * alpha_val).astype('double')\n",
    "\n",
    "# Fit the model\n",
    "model.fit(data_conf)\n"
   ]
  },
  {
   "cell_type": "code",
   "execution_count": 19,
   "metadata": {},
   "outputs": [],
   "source": [
    "# Recommend song for user\n",
    "def recommend_song(user, number):\n",
    "    # Take the user into the method .recommend()\n",
    "    recommended = model.recommend(user, sparse_user_item, N=number, filter_already_liked_items=True)\n",
    "    \n",
    "    # Create lists to contain songs and scores\n",
    "    song = []\n",
    "    scores = []\n",
    "    \n",
    "    # Get artist names from ids\n",
    "    for item in recommended:\n",
    "        idx, score = item\n",
    "        song.append(count_df['song_artist'].loc[count_df['song_artist_cat'] == idx].iloc[0])\n",
    "        scores.append(score)\n",
    "        \n",
    "    recommendations = pd.DataFrame({'song_artist': song, 'score': scores})\n",
    "    return recommendations\n"
   ]
  },
  {
   "cell_type": "code",
   "execution_count": 20,
   "metadata": {},
   "outputs": [],
   "source": [
    "# Find similar songs\n",
    "def similar_song(item, number):\n",
    "    similar = model.similar_items(item, number)\n",
    "    \n",
    "    song = []\n",
    "    scores = []\n",
    "    for item in similar:\n",
    "        idx, score = item\n",
    "        song.append(count_df['song_artist'].loc[count_df['song_artist_cat'] == idx].iloc[0])\n",
    "        scores.append(score)\n",
    "        \n",
    "    similar_songs = pd.DataFrame({'song_artist': song, 'scores': scores})\n",
    "    return similar_songs\n"
   ]
  },
  {
   "cell_type": "code",
   "execution_count": 21,
   "metadata": {
    "scrolled": true
   },
   "outputs": [
    {
     "data": {
      "text/html": [
       "<div>\n",
       "<style scoped>\n",
       "    .dataframe tbody tr th:only-of-type {\n",
       "        vertical-align: middle;\n",
       "    }\n",
       "\n",
       "    .dataframe tbody tr th {\n",
       "        vertical-align: top;\n",
       "    }\n",
       "\n",
       "    .dataframe thead th {\n",
       "        text-align: right;\n",
       "    }\n",
       "</style>\n",
       "<table border=\"1\" class=\"dataframe\">\n",
       "  <thead>\n",
       "    <tr style=\"text-align: right;\">\n",
       "      <th></th>\n",
       "      <th>song_artist</th>\n",
       "      <th>scores</th>\n",
       "    </tr>\n",
       "  </thead>\n",
       "  <tbody>\n",
       "    <tr>\n",
       "      <th>0</th>\n",
       "      <td>you must pay - godheadsilo</td>\n",
       "      <td>0.044390</td>\n",
       "    </tr>\n",
       "    <tr>\n",
       "      <th>1</th>\n",
       "      <td>living room - l. voag</td>\n",
       "      <td>0.044389</td>\n",
       "    </tr>\n",
       "    <tr>\n",
       "      <th>2</th>\n",
       "      <td>mercurochrome - steel pole bath tub</td>\n",
       "      <td>0.044389</td>\n",
       "    </tr>\n",
       "    <tr>\n",
       "      <th>3</th>\n",
       "      <td>wounded bird - the judybats</td>\n",
       "      <td>0.044389</td>\n",
       "    </tr>\n",
       "    <tr>\n",
       "      <th>4</th>\n",
       "      <td>empty particles - a frames</td>\n",
       "      <td>0.044389</td>\n",
       "    </tr>\n",
       "    <tr>\n",
       "      <th>5</th>\n",
       "      <td>pluie sans nuages - abbc</td>\n",
       "      <td>0.044389</td>\n",
       "    </tr>\n",
       "    <tr>\n",
       "      <th>6</th>\n",
       "      <td>bored to death - kustomized</td>\n",
       "      <td>0.044389</td>\n",
       "    </tr>\n",
       "    <tr>\n",
       "      <th>7</th>\n",
       "      <td>untitled - cop shoot cop</td>\n",
       "      <td>0.044389</td>\n",
       "    </tr>\n",
       "    <tr>\n",
       "      <th>8</th>\n",
       "      <td>pull me back in - run westy run</td>\n",
       "      <td>0.044389</td>\n",
       "    </tr>\n",
       "    <tr>\n",
       "      <th>9</th>\n",
       "      <td>too long - m.o.g.</td>\n",
       "      <td>0.044389</td>\n",
       "    </tr>\n",
       "  </tbody>\n",
       "</table>\n",
       "</div>"
      ],
      "text/plain": [
       "                           song_artist    scores\n",
       "0           you must pay - godheadsilo  0.044390\n",
       "1                living room - l. voag  0.044389\n",
       "2  mercurochrome - steel pole bath tub  0.044389\n",
       "3          wounded bird - the judybats  0.044389\n",
       "4           empty particles - a frames  0.044389\n",
       "5             pluie sans nuages - abbc  0.044389\n",
       "6          bored to death - kustomized  0.044389\n",
       "7             untitled - cop shoot cop  0.044389\n",
       "8      pull me back in - run westy run  0.044389\n",
       "9                    too long - m.o.g.  0.044389"
      ]
     },
     "execution_count": 21,
     "metadata": {},
     "output_type": "execute_result"
    }
   ],
   "source": [
    "similar_song(390598, 10)"
   ]
  },
  {
   "cell_type": "code",
   "execution_count": 22,
   "metadata": {},
   "outputs": [
    {
     "data": {
      "text/html": [
       "<div>\n",
       "<style scoped>\n",
       "    .dataframe tbody tr th:only-of-type {\n",
       "        vertical-align: middle;\n",
       "    }\n",
       "\n",
       "    .dataframe tbody tr th {\n",
       "        vertical-align: top;\n",
       "    }\n",
       "\n",
       "    .dataframe thead th {\n",
       "        text-align: right;\n",
       "    }\n",
       "</style>\n",
       "<table border=\"1\" class=\"dataframe\">\n",
       "  <thead>\n",
       "    <tr style=\"text-align: right;\">\n",
       "      <th></th>\n",
       "      <th>song_artist</th>\n",
       "      <th>score</th>\n",
       "    </tr>\n",
       "  </thead>\n",
       "  <tbody>\n",
       "    <tr>\n",
       "      <th>0</th>\n",
       "      <td>u boat - kasabian</td>\n",
       "      <td>1.511003</td>\n",
       "    </tr>\n",
       "    <tr>\n",
       "      <th>1</th>\n",
       "      <td>what's the word - we are scientists</td>\n",
       "      <td>1.408819</td>\n",
       "    </tr>\n",
       "    <tr>\n",
       "      <th>2</th>\n",
       "      <td>worth the wait - we are scientists</td>\n",
       "      <td>1.374809</td>\n",
       "    </tr>\n",
       "    <tr>\n",
       "      <th>3</th>\n",
       "      <td>two more years - bloc party</td>\n",
       "      <td>1.360508</td>\n",
       "    </tr>\n",
       "    <tr>\n",
       "      <th>4</th>\n",
       "      <td>callbacks - we are scientists</td>\n",
       "      <td>1.336251</td>\n",
       "    </tr>\n",
       "    <tr>\n",
       "      <th>5</th>\n",
       "      <td>the sweets - yeah yeah yeahs</td>\n",
       "      <td>1.326645</td>\n",
       "    </tr>\n",
       "    <tr>\n",
       "      <th>6</th>\n",
       "      <td>god knows - mando diao</td>\n",
       "      <td>1.324954</td>\n",
       "    </tr>\n",
       "    <tr>\n",
       "      <th>7</th>\n",
       "      <td>can't lose - we are scientists</td>\n",
       "      <td>1.313945</td>\n",
       "    </tr>\n",
       "    <tr>\n",
       "      <th>8</th>\n",
       "      <td>as sure as the sun - black rebel motorcycle club</td>\n",
       "      <td>1.299800</td>\n",
       "    </tr>\n",
       "    <tr>\n",
       "      <th>9</th>\n",
       "      <td>someone says - editors</td>\n",
       "      <td>1.259950</td>\n",
       "    </tr>\n",
       "  </tbody>\n",
       "</table>\n",
       "</div>"
      ],
      "text/plain": [
       "                                        song_artist     score\n",
       "0                                 u boat - kasabian  1.511003\n",
       "1               what's the word - we are scientists  1.408819\n",
       "2                worth the wait - we are scientists  1.374809\n",
       "3                       two more years - bloc party  1.360508\n",
       "4                     callbacks - we are scientists  1.336251\n",
       "5                      the sweets - yeah yeah yeahs  1.326645\n",
       "6                            god knows - mando diao  1.324954\n",
       "7                    can't lose - we are scientists  1.313945\n",
       "8  as sure as the sun - black rebel motorcycle club  1.299800\n",
       "9                            someone says - editors  1.259950"
      ]
     },
     "execution_count": 22,
     "metadata": {},
     "output_type": "execute_result"
    }
   ],
   "source": [
    "recommend_song(19, 10)"
   ]
  },
  {
   "cell_type": "code",
   "execution_count": 23,
   "metadata": {},
   "outputs": [],
   "source": [
    "# Save count_df file into csv format\n",
    "count_df.to_csv('user-song-plays.csv', index=False)"
   ]
  },
  {
   "cell_type": "code",
   "execution_count": 25,
   "metadata": {},
   "outputs": [],
   "source": [
    "# Reduce the origin dataset into 100 songs are listened the most by each user\n",
    "new_cf_df = pd.DataFrame(columns=count_df.columns.to_list())\n",
    "\n",
    "for i in range(len(np.unique(count_df['user_id_cat']))):\n",
    "    id_user = count_df[count_df['user_id_cat'] == i].sort_values(\"times\", ascending=False)\n",
    "    pop_songs = id_user.head(100)\n",
    "    new_cf_df = new_cf_df.append(pop_songs, ignore_index=True)"
   ]
  },
  {
   "cell_type": "code",
   "execution_count": 26,
   "metadata": {},
   "outputs": [],
   "source": [
    "# Save reduced dataset \n",
    "new_cf_df.to_csv('reduced_cf_df.csv', index=False)"
   ]
  }
 ],
 "metadata": {
  "kernelspec": {
   "display_name": "Python 3",
   "language": "python",
   "name": "python3"
  },
  "language_info": {
   "codemirror_mode": {
    "name": "ipython",
    "version": 3
   },
   "file_extension": ".py",
   "mimetype": "text/x-python",
   "name": "python",
   "nbconvert_exporter": "python",
   "pygments_lexer": "ipython3",
   "version": "3.8.5"
  }
 },
 "nbformat": 4,
 "nbformat_minor": 4
}
